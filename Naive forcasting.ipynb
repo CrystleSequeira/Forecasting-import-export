{
 "cells": [
  {
   "cell_type": "code",
   "execution_count": 23,
   "metadata": {},
   "outputs": [],
   "source": [
    "import pandas as pd\n",
    "import numpy as np\n",
    "import matplotlib.pyplot as plt\n",
    "import matplotlib\n",
    "\n",
    "import warnings\n",
    "warnings.filterwarnings(\"ignore\")"
   ]
  },
  {
   "cell_type": "code",
   "execution_count": 24,
   "metadata": {},
   "outputs": [
    {
     "data": {
      "text/html": [
       "<div>\n",
       "<style scoped>\n",
       "    .dataframe tbody tr th:only-of-type {\n",
       "        vertical-align: middle;\n",
       "    }\n",
       "\n",
       "    .dataframe tbody tr th {\n",
       "        vertical-align: top;\n",
       "    }\n",
       "\n",
       "    .dataframe thead th {\n",
       "        text-align: right;\n",
       "    }\n",
       "</style>\n",
       "<table border=\"1\" class=\"dataframe\">\n",
       "  <thead>\n",
       "    <tr style=\"text-align: right;\">\n",
       "      <th></th>\n",
       "      <th>0</th>\n",
       "      <th>1</th>\n",
       "      <th>2</th>\n",
       "      <th>3</th>\n",
       "      <th>4</th>\n",
       "      <th>5</th>\n",
       "      <th>6</th>\n",
       "      <th>7</th>\n",
       "      <th>8</th>\n",
       "      <th>9</th>\n",
       "      <th>...</th>\n",
       "      <th>146</th>\n",
       "      <th>147</th>\n",
       "      <th>148</th>\n",
       "      <th>149</th>\n",
       "      <th>150</th>\n",
       "      <th>151</th>\n",
       "      <th>152</th>\n",
       "      <th>153</th>\n",
       "      <th>154</th>\n",
       "      <th>155</th>\n",
       "    </tr>\n",
       "  </thead>\n",
       "  <tbody>\n",
       "    <tr>\n",
       "      <td>0</td>\n",
       "      <td>0</td>\n",
       "      <td>1</td>\n",
       "      <td>2</td>\n",
       "      <td>3</td>\n",
       "      <td>4</td>\n",
       "      <td>5</td>\n",
       "      <td>6</td>\n",
       "      <td>7</td>\n",
       "      <td>8</td>\n",
       "      <td>9</td>\n",
       "      <td>...</td>\n",
       "      <td>146</td>\n",
       "      <td>147</td>\n",
       "      <td>148</td>\n",
       "      <td>149</td>\n",
       "      <td>150</td>\n",
       "      <td>151</td>\n",
       "      <td>152</td>\n",
       "      <td>153</td>\n",
       "      <td>154</td>\n",
       "      <td>155</td>\n",
       "    </tr>\n",
       "    <tr>\n",
       "      <td>1</td>\n",
       "      <td>2007-01-01 00:00:00</td>\n",
       "      <td>2007-02-01 00:00:00</td>\n",
       "      <td>2007-03-01 00:00:00</td>\n",
       "      <td>2007-04-01 00:00:00</td>\n",
       "      <td>2007-05-01 00:00:00</td>\n",
       "      <td>2007-06-01 00:00:00</td>\n",
       "      <td>2007-07-01 00:00:00</td>\n",
       "      <td>2007-08-01 00:00:00</td>\n",
       "      <td>2007-09-01 00:00:00</td>\n",
       "      <td>2007-10-01 00:00:00</td>\n",
       "      <td>...</td>\n",
       "      <td>2019-03-01 00:00:00</td>\n",
       "      <td>2019-04-01 00:00:00</td>\n",
       "      <td>2019-05-01 00:00:00</td>\n",
       "      <td>2019-06-01 00:00:00</td>\n",
       "      <td>2019-07-01 00:00:00</td>\n",
       "      <td>2019-08-01 00:00:00</td>\n",
       "      <td>2019-09-01 00:00:00</td>\n",
       "      <td>2019-10-01 00:00:00</td>\n",
       "      <td>2019-11-01 00:00:00</td>\n",
       "      <td>2019-12-01 00:00:00</td>\n",
       "    </tr>\n",
       "    <tr>\n",
       "      <td>2</td>\n",
       "      <td>38223018</td>\n",
       "      <td>35866026</td>\n",
       "      <td>41532719</td>\n",
       "      <td>39443013</td>\n",
       "      <td>39852981</td>\n",
       "      <td>39387232</td>\n",
       "      <td>35048576</td>\n",
       "      <td>37669038</td>\n",
       "      <td>35534156</td>\n",
       "      <td>37291389</td>\n",
       "      <td>...</td>\n",
       "      <td>51935479</td>\n",
       "      <td>49858132</td>\n",
       "      <td>55511984</td>\n",
       "      <td>51068508</td>\n",
       "      <td>48912380</td>\n",
       "      <td>49320631</td>\n",
       "      <td>49234963</td>\n",
       "      <td>50888374</td>\n",
       "      <td>47479186</td>\n",
       "      <td>49775699</td>\n",
       "    </tr>\n",
       "  </tbody>\n",
       "</table>\n",
       "<p>3 rows × 156 columns</p>\n",
       "</div>"
      ],
      "text/plain": [
       "                   0                    1                    2    \\\n",
       "0                    0                    1                    2   \n",
       "1  2007-01-01 00:00:00  2007-02-01 00:00:00  2007-03-01 00:00:00   \n",
       "2             38223018             35866026             41532719   \n",
       "\n",
       "                   3                    4                    5    \\\n",
       "0                    3                    4                    5   \n",
       "1  2007-04-01 00:00:00  2007-05-01 00:00:00  2007-06-01 00:00:00   \n",
       "2             39443013             39852981             39387232   \n",
       "\n",
       "                   6                    7                    8    \\\n",
       "0                    6                    7                    8   \n",
       "1  2007-07-01 00:00:00  2007-08-01 00:00:00  2007-09-01 00:00:00   \n",
       "2             35048576             37669038             35534156   \n",
       "\n",
       "                   9    ...                  146                  147  \\\n",
       "0                    9  ...                  146                  147   \n",
       "1  2007-10-01 00:00:00  ...  2019-03-01 00:00:00  2019-04-01 00:00:00   \n",
       "2             37291389  ...             51935479             49858132   \n",
       "\n",
       "                   148                  149                  150  \\\n",
       "0                  148                  149                  150   \n",
       "1  2019-05-01 00:00:00  2019-06-01 00:00:00  2019-07-01 00:00:00   \n",
       "2             55511984             51068508             48912380   \n",
       "\n",
       "                   151                  152                  153  \\\n",
       "0                  151                  152                  153   \n",
       "1  2019-08-01 00:00:00  2019-09-01 00:00:00  2019-10-01 00:00:00   \n",
       "2             49320631             49234963             50888374   \n",
       "\n",
       "                   154                  155  \n",
       "0                  154                  155  \n",
       "1  2019-11-01 00:00:00  2019-12-01 00:00:00  \n",
       "2             47479186             49775699  \n",
       "\n",
       "[3 rows x 156 columns]"
      ]
     },
     "execution_count": 24,
     "metadata": {},
     "output_type": "execute_result"
    }
   ],
   "source": [
    "df = pd.read_excel ('monthly export amount2.xlsx')\n",
    "df"
   ]
  },
  {
   "cell_type": "markdown",
   "metadata": {},
   "source": [
    "Because the data frame had 3 rows and 156 columns, it should be transposed to 3 columns which one of them is date and the other amounts, also one column as an ID."
   ]
  },
  {
   "cell_type": "code",
   "execution_count": 25,
   "metadata": {},
   "outputs": [],
   "source": [
    "df =df.transpose()\n"
   ]
  },
  {
   "cell_type": "code",
   "execution_count": 26,
   "metadata": {},
   "outputs": [
    {
     "data": {
      "text/html": [
       "<div>\n",
       "<style scoped>\n",
       "    .dataframe tbody tr th:only-of-type {\n",
       "        vertical-align: middle;\n",
       "    }\n",
       "\n",
       "    .dataframe tbody tr th {\n",
       "        vertical-align: top;\n",
       "    }\n",
       "\n",
       "    .dataframe thead th {\n",
       "        text-align: right;\n",
       "    }\n",
       "</style>\n",
       "<table border=\"1\" class=\"dataframe\">\n",
       "  <thead>\n",
       "    <tr style=\"text-align: right;\">\n",
       "      <th></th>\n",
       "      <th>ID</th>\n",
       "      <th>Datetime</th>\n",
       "      <th>Total</th>\n",
       "    </tr>\n",
       "  </thead>\n",
       "  <tbody>\n",
       "    <tr>\n",
       "      <td>0</td>\n",
       "      <td>0</td>\n",
       "      <td>2007-01-01</td>\n",
       "      <td>38223018</td>\n",
       "    </tr>\n",
       "    <tr>\n",
       "      <td>1</td>\n",
       "      <td>1</td>\n",
       "      <td>2007-02-01</td>\n",
       "      <td>35866026</td>\n",
       "    </tr>\n",
       "    <tr>\n",
       "      <td>2</td>\n",
       "      <td>2</td>\n",
       "      <td>2007-03-01</td>\n",
       "      <td>41532719</td>\n",
       "    </tr>\n",
       "    <tr>\n",
       "      <td>3</td>\n",
       "      <td>3</td>\n",
       "      <td>2007-04-01</td>\n",
       "      <td>39443013</td>\n",
       "    </tr>\n",
       "    <tr>\n",
       "      <td>4</td>\n",
       "      <td>4</td>\n",
       "      <td>2007-05-01</td>\n",
       "      <td>39852981</td>\n",
       "    </tr>\n",
       "    <tr>\n",
       "      <td>...</td>\n",
       "      <td>...</td>\n",
       "      <td>...</td>\n",
       "      <td>...</td>\n",
       "    </tr>\n",
       "    <tr>\n",
       "      <td>151</td>\n",
       "      <td>151</td>\n",
       "      <td>2019-08-01</td>\n",
       "      <td>49320631</td>\n",
       "    </tr>\n",
       "    <tr>\n",
       "      <td>152</td>\n",
       "      <td>152</td>\n",
       "      <td>2019-09-01</td>\n",
       "      <td>49234963</td>\n",
       "    </tr>\n",
       "    <tr>\n",
       "      <td>153</td>\n",
       "      <td>153</td>\n",
       "      <td>2019-10-01</td>\n",
       "      <td>50888374</td>\n",
       "    </tr>\n",
       "    <tr>\n",
       "      <td>154</td>\n",
       "      <td>154</td>\n",
       "      <td>2019-11-01</td>\n",
       "      <td>47479186</td>\n",
       "    </tr>\n",
       "    <tr>\n",
       "      <td>155</td>\n",
       "      <td>155</td>\n",
       "      <td>2019-12-01</td>\n",
       "      <td>49775699</td>\n",
       "    </tr>\n",
       "  </tbody>\n",
       "</table>\n",
       "<p>156 rows × 3 columns</p>\n",
       "</div>"
      ],
      "text/plain": [
       "      ID   Datetime     Total\n",
       "0      0 2007-01-01  38223018\n",
       "1      1 2007-02-01  35866026\n",
       "2      2 2007-03-01  41532719\n",
       "3      3 2007-04-01  39443013\n",
       "4      4 2007-05-01  39852981\n",
       "..   ...        ...       ...\n",
       "151  151 2019-08-01  49320631\n",
       "152  152 2019-09-01  49234963\n",
       "153  153 2019-10-01  50888374\n",
       "154  154 2019-11-01  47479186\n",
       "155  155 2019-12-01  49775699\n",
       "\n",
       "[156 rows x 3 columns]"
      ]
     },
     "execution_count": 26,
     "metadata": {},
     "output_type": "execute_result"
    }
   ],
   "source": [
    "df.columns = ['ID','Datetime','Total']\n",
    "\n",
    "df"
   ]
  },
  {
   "cell_type": "code",
   "execution_count": 27,
   "metadata": {},
   "outputs": [
    {
     "data": {
      "text/plain": [
       "ID                  object\n",
       "Datetime    datetime64[ns]\n",
       "Total               object\n",
       "dtype: object"
      ]
     },
     "execution_count": 27,
     "metadata": {},
     "output_type": "execute_result"
    }
   ],
   "source": [
    "\n",
    "df.dtypes"
   ]
  },
  {
   "cell_type": "code",
   "execution_count": 28,
   "metadata": {},
   "outputs": [],
   "source": [
    "df['ID'] = df['ID'].astype(np.float64)\n",
    "\n",
    "df['Total'] = df['Total'].astype(np.float64)"
   ]
  },
  {
   "cell_type": "markdown",
   "metadata": {},
   "source": [
    "Then split the test and train parts, which 2019 is the test and the previous 12 years are train."
   ]
  },
  {
   "cell_type": "code",
   "execution_count": 30,
   "metadata": {},
   "outputs": [],
   "source": [
    "train=df[0:144] \n",
    "test=df[144:]"
   ]
  },
  {
   "cell_type": "code",
   "execution_count": 31,
   "metadata": {},
   "outputs": [],
   "source": [
    "#Aggregating the dataset at monthly level\n",
    "df.Timestamp = pd.to_datetime(df.Datetime,format='%d-%m-%Y') \n",
    "df.index = df.Timestamp \n",
    "df = df.resample('M').mean()\n",
    "train.Timestamp = pd.to_datetime(train.Datetime,format='%d-%m-%Y') \n",
    "train.index = train.Timestamp \n",
    "train = train.resample('M').mean() \n",
    "test.Timestamp = pd.to_datetime(test.Datetime,format='%d-%m-%Y') \n",
    "test.index = test.Timestamp \n",
    "test = test.resample('M').mean()"
   ]
  },
  {
   "cell_type": "code",
   "execution_count": 32,
   "metadata": {},
   "outputs": [
    {
     "data": {
      "image/png": "[encoded data removed]",
      "text/plain": [
       "<Figure size 864x576 with 1 Axes>"
      ]
     },
     "metadata": {
      "needs_background": "light"
     },
     "output_type": "display_data"
    }
   ],
   "source": [
    "plt.figure(figsize=(12,8))\n",
    "plt.title(\"Train and Test Data\")\n",
    "plt.plot(train.index, train['Total'], label='Train')\n",
    "plt.plot(test.index,test['Total'], label='Test')\n",
    "plt.legend(loc='best')\n",
    "plt.show()"
   ]
  },
  {
   "attachments": {
    "image.png": {
     "image/png": "[encoded data removed]"
    }
   },
   "cell_type": "markdown",
   "metadata": {},
   "source": [
    "The naive forecast creates a baseline forecast that can allow a forecast value-add for more advanced methods.\n",
    "Naive forecast is the starting point for statistical forecast improvement.\n",
    "Naive forecasts can often beat demand planning models which are much more sophisticated and higher cost to implement\n",
    "The idea behind the naive method for forecasting is to simply choose the data value from the previous period to estimate the next period.\n",
    "\n",
    "![image.png](attachment:image.png)\n",
    "\n",
    "\n",
    " \n",
    "The Naive forecasting method of forecasting is one the easiest of all methods. "
   ]
  },
  {
   "cell_type": "code",
   "execution_count": 33,
   "metadata": {},
   "outputs": [],
   "source": [
    "\n",
    "dd = np.asarray(train.Total)\n",
    "lastvalue = dd[len(dd)-1]"
   ]
  },
  {
   "cell_type": "code",
   "execution_count": 34,
   "metadata": {},
   "outputs": [
    {
     "data": {
      "text/html": [
       "<div>\n",
       "<style scoped>\n",
       "    .dataframe tbody tr th:only-of-type {\n",
       "        vertical-align: middle;\n",
       "    }\n",
       "\n",
       "    .dataframe tbody tr th {\n",
       "        vertical-align: top;\n",
       "    }\n",
       "\n",
       "    .dataframe thead th {\n",
       "        text-align: right;\n",
       "    }\n",
       "</style>\n",
       "<table border=\"1\" class=\"dataframe\">\n",
       "  <thead>\n",
       "    <tr style=\"text-align: right;\">\n",
       "      <th></th>\n",
       "      <th>ID</th>\n",
       "      <th>Total</th>\n",
       "      <th>naive</th>\n",
       "    </tr>\n",
       "  </thead>\n",
       "  <tbody>\n",
       "    <tr>\n",
       "      <td>count</td>\n",
       "      <td>12.000000</td>\n",
       "      <td>1.200000e+01</td>\n",
       "      <td>12.0</td>\n",
       "    </tr>\n",
       "    <tr>\n",
       "      <td>mean</td>\n",
       "      <td>149.500000</td>\n",
       "      <td>4.938307e+07</td>\n",
       "      <td>46885254.0</td>\n",
       "    </tr>\n",
       "    <tr>\n",
       "      <td>std</td>\n",
       "      <td>3.605551</td>\n",
       "      <td>3.146873e+06</td>\n",
       "      <td>0.0</td>\n",
       "    </tr>\n",
       "    <tr>\n",
       "      <td>min</td>\n",
       "      <td>144.000000</td>\n",
       "      <td>4.290298e+07</td>\n",
       "      <td>46885254.0</td>\n",
       "    </tr>\n",
       "    <tr>\n",
       "      <td>25%</td>\n",
       "      <td>146.750000</td>\n",
       "      <td>4.855408e+07</td>\n",
       "      <td>46885254.0</td>\n",
       "    </tr>\n",
       "    <tr>\n",
       "      <td>50%</td>\n",
       "      <td>149.500000</td>\n",
       "      <td>4.954816e+07</td>\n",
       "      <td>46885254.0</td>\n",
       "    </tr>\n",
       "    <tr>\n",
       "      <td>75%</td>\n",
       "      <td>152.250000</td>\n",
       "      <td>5.093341e+07</td>\n",
       "      <td>46885254.0</td>\n",
       "    </tr>\n",
       "    <tr>\n",
       "      <td>max</td>\n",
       "      <td>155.000000</td>\n",
       "      <td>5.551198e+07</td>\n",
       "      <td>46885254.0</td>\n",
       "    </tr>\n",
       "  </tbody>\n",
       "</table>\n",
       "</div>"
      ],
      "text/plain": [
       "               ID         Total       naive\n",
       "count   12.000000  1.200000e+01        12.0\n",
       "mean   149.500000  4.938307e+07  46885254.0\n",
       "std      3.605551  3.146873e+06         0.0\n",
       "min    144.000000  4.290298e+07  46885254.0\n",
       "25%    146.750000  4.855408e+07  46885254.0\n",
       "50%    149.500000  4.954816e+07  46885254.0\n",
       "75%    152.250000  5.093341e+07  46885254.0\n",
       "max    155.000000  5.551198e+07  46885254.0"
      ]
     },
     "execution_count": 34,
     "metadata": {},
     "output_type": "execute_result"
    }
   ],
   "source": [
    "\n",
    "y_hat = test.copy()\n",
    "y_hat['naive'] = lastvalue\n",
    "y_hat.describe()"
   ]
  },
  {
   "cell_type": "code",
   "execution_count": 35,
   "metadata": {},
   "outputs": [
    {
     "data": {
      "image/png": "[encoded data removed]",
      "text/plain": [
       "<Figure size 864x576 with 1 Axes>"
      ]
     },
     "metadata": {
      "needs_background": "light"
     },
     "output_type": "display_data"
    }
   ],
   "source": [
    "plt.figure(figsize=(12,8))\n",
    "plt.plot(train.index, train['Total'], label='Train')\n",
    "plt.plot(test.index,test['Total'], label='Test')\n",
    "plt.plot(y_hat.index,y_hat['naive'], label='Naive Forecast')\n",
    "plt.legend(loc='best')\n",
    "plt.title(\"Naive Forecast\")\n",
    "plt.show()"
   ]
  },
  {
   "cell_type": "code",
   "execution_count": 52,
   "metadata": {},
   "outputs": [
    {
     "name": "stdout",
     "output_type": "stream",
     "text": [
      "RMSE = 0.39136500220191295\n"
     ]
    }
   ],
   "source": [
    "from sklearn.metrics import mean_squared_error\n",
    "from math import sqrt\n",
    "\n",
    "rms = sqrt(mean_squared_error(test.Total, y_hat.naive))/10000000\n",
    "print('RMSE = '+str(rms))"
   ]
  },
  {
   "cell_type": "markdown",
   "metadata": {},
   "source": [
    "The same calculation to the import data."
   ]
  },
  {
   "cell_type": "code",
   "execution_count": 39,
   "metadata": {},
   "outputs": [],
   "source": [
    "df2 = pd.read_excel ('monthly import amount2.xlsx')"
   ]
  },
  {
   "cell_type": "code",
   "execution_count": 40,
   "metadata": {},
   "outputs": [
    {
     "data": {
      "text/html": [
       "<div>\n",
       "<style scoped>\n",
       "    .dataframe tbody tr th:only-of-type {\n",
       "        vertical-align: middle;\n",
       "    }\n",
       "\n",
       "    .dataframe tbody tr th {\n",
       "        vertical-align: top;\n",
       "    }\n",
       "\n",
       "    .dataframe thead th {\n",
       "        text-align: right;\n",
       "    }\n",
       "</style>\n",
       "<table border=\"1\" class=\"dataframe\">\n",
       "  <thead>\n",
       "    <tr style=\"text-align: right;\">\n",
       "      <th></th>\n",
       "      <th>ID</th>\n",
       "      <th>Datetime</th>\n",
       "      <th>Total</th>\n",
       "    </tr>\n",
       "  </thead>\n",
       "  <tbody>\n",
       "    <tr>\n",
       "      <td>0</td>\n",
       "      <td>0</td>\n",
       "      <td>2007-01-01</td>\n",
       "      <td>32224562</td>\n",
       "    </tr>\n",
       "    <tr>\n",
       "      <td>1</td>\n",
       "      <td>1</td>\n",
       "      <td>2007-02-01</td>\n",
       "      <td>32242267</td>\n",
       "    </tr>\n",
       "    <tr>\n",
       "      <td>2</td>\n",
       "      <td>2</td>\n",
       "      <td>2007-03-01</td>\n",
       "      <td>37580303</td>\n",
       "    </tr>\n",
       "    <tr>\n",
       "      <td>3</td>\n",
       "      <td>3</td>\n",
       "      <td>2007-04-01</td>\n",
       "      <td>34869515</td>\n",
       "    </tr>\n",
       "    <tr>\n",
       "      <td>4</td>\n",
       "      <td>4</td>\n",
       "      <td>2007-05-01</td>\n",
       "      <td>35548764</td>\n",
       "    </tr>\n",
       "    <tr>\n",
       "      <td>...</td>\n",
       "      <td>...</td>\n",
       "      <td>...</td>\n",
       "      <td>...</td>\n",
       "    </tr>\n",
       "    <tr>\n",
       "      <td>151</td>\n",
       "      <td>151</td>\n",
       "      <td>2019-08-01</td>\n",
       "      <td>51815887</td>\n",
       "    </tr>\n",
       "    <tr>\n",
       "      <td>152</td>\n",
       "      <td>152</td>\n",
       "      <td>2019-09-01</td>\n",
       "      <td>49366806</td>\n",
       "    </tr>\n",
       "    <tr>\n",
       "      <td>153</td>\n",
       "      <td>153</td>\n",
       "      <td>2019-10-01</td>\n",
       "      <td>51827652</td>\n",
       "    </tr>\n",
       "    <tr>\n",
       "      <td>154</td>\n",
       "      <td>154</td>\n",
       "      <td>2019-11-01</td>\n",
       "      <td>47939304</td>\n",
       "    </tr>\n",
       "    <tr>\n",
       "      <td>155</td>\n",
       "      <td>155</td>\n",
       "      <td>2019-12-01</td>\n",
       "      <td>45670220</td>\n",
       "    </tr>\n",
       "  </tbody>\n",
       "</table>\n",
       "<p>156 rows × 3 columns</p>\n",
       "</div>"
      ],
      "text/plain": [
       "      ID   Datetime     Total\n",
       "0      0 2007-01-01  32224562\n",
       "1      1 2007-02-01  32242267\n",
       "2      2 2007-03-01  37580303\n",
       "3      3 2007-04-01  34869515\n",
       "4      4 2007-05-01  35548764\n",
       "..   ...        ...       ...\n",
       "151  151 2019-08-01  51815887\n",
       "152  152 2019-09-01  49366806\n",
       "153  153 2019-10-01  51827652\n",
       "154  154 2019-11-01  47939304\n",
       "155  155 2019-12-01  45670220\n",
       "\n",
       "[156 rows x 3 columns]"
      ]
     },
     "execution_count": 40,
     "metadata": {},
     "output_type": "execute_result"
    }
   ],
   "source": [
    "df2 =df2.transpose()\n",
    "df2.columns = ['ID','Datetime','Total']\n",
    "\n",
    "df2"
   ]
  },
  {
   "cell_type": "code",
   "execution_count": 41,
   "metadata": {},
   "outputs": [],
   "source": [
    "df2['ID'] = df2['ID'].astype(np.float64)\n",
    "\n",
    "df2['Total'] = df2['Total'].astype(np.float64)"
   ]
  },
  {
   "cell_type": "code",
   "execution_count": 42,
   "metadata": {},
   "outputs": [],
   "source": [
    "train2=df2[0:144] \n",
    "test2=df2[144:]"
   ]
  },
  {
   "cell_type": "code",
   "execution_count": 43,
   "metadata": {},
   "outputs": [],
   "source": [
    "df2.Timestamp = pd.to_datetime(df2.Datetime,format='%d-%m-%Y') \n",
    "df2.index = df2.Timestamp \n",
    "df2 = df2.resample('M').mean()\n",
    "train2.Timestamp = pd.to_datetime(train2.Datetime,format='%d-%m-%Y') \n",
    "train2.index = train2.Timestamp \n",
    "train2 = train2.resample('M').mean() \n",
    "test2.Timestamp = pd.to_datetime(test2.Datetime,format='%d-%m-%Y') \n",
    "test2.index = test2.Timestamp \n",
    "test2 = test2.resample('M').mean()"
   ]
  },
  {
   "cell_type": "code",
   "execution_count": 46,
   "metadata": {},
   "outputs": [],
   "source": [
    "dd2 = np.asarray(train2.Total)\n",
    "lastvalue2 = dd2[len(dd2)-1]"
   ]
  },
  {
   "cell_type": "code",
   "execution_count": 47,
   "metadata": {},
   "outputs": [
    {
     "data": {
      "text/html": [
       "<div>\n",
       "<style scoped>\n",
       "    .dataframe tbody tr th:only-of-type {\n",
       "        vertical-align: middle;\n",
       "    }\n",
       "\n",
       "    .dataframe tbody tr th {\n",
       "        vertical-align: top;\n",
       "    }\n",
       "\n",
       "    .dataframe thead th {\n",
       "        text-align: right;\n",
       "    }\n",
       "</style>\n",
       "<table border=\"1\" class=\"dataframe\">\n",
       "  <thead>\n",
       "    <tr style=\"text-align: right;\">\n",
       "      <th></th>\n",
       "      <th>ID</th>\n",
       "      <th>Total</th>\n",
       "      <th>naive</th>\n",
       "    </tr>\n",
       "  </thead>\n",
       "  <tbody>\n",
       "    <tr>\n",
       "      <td>count</td>\n",
       "      <td>12.000000</td>\n",
       "      <td>1.200000e+01</td>\n",
       "      <td>12.0</td>\n",
       "    </tr>\n",
       "    <tr>\n",
       "      <td>mean</td>\n",
       "      <td>149.500000</td>\n",
       "      <td>5.011273e+07</td>\n",
       "      <td>46863194.0</td>\n",
       "    </tr>\n",
       "    <tr>\n",
       "      <td>std</td>\n",
       "      <td>3.605551</td>\n",
       "      <td>2.735949e+06</td>\n",
       "      <td>0.0</td>\n",
       "    </tr>\n",
       "    <tr>\n",
       "      <td>min</td>\n",
       "      <td>144.000000</td>\n",
       "      <td>4.567022e+07</td>\n",
       "      <td>46863194.0</td>\n",
       "    </tr>\n",
       "    <tr>\n",
       "      <td>25%</td>\n",
       "      <td>146.750000</td>\n",
       "      <td>4.799136e+07</td>\n",
       "      <td>46863194.0</td>\n",
       "    </tr>\n",
       "    <tr>\n",
       "      <td>50%</td>\n",
       "      <td>149.500000</td>\n",
       "      <td>5.028947e+07</td>\n",
       "      <td>46863194.0</td>\n",
       "    </tr>\n",
       "    <tr>\n",
       "      <td>75%</td>\n",
       "      <td>152.250000</td>\n",
       "      <td>5.188578e+07</td>\n",
       "      <td>46863194.0</td>\n",
       "    </tr>\n",
       "    <tr>\n",
       "      <td>max</td>\n",
       "      <td>155.000000</td>\n",
       "      <td>5.421021e+07</td>\n",
       "      <td>46863194.0</td>\n",
       "    </tr>\n",
       "  </tbody>\n",
       "</table>\n",
       "</div>"
      ],
      "text/plain": [
       "               ID         Total       naive\n",
       "count   12.000000  1.200000e+01        12.0\n",
       "mean   149.500000  5.011273e+07  46863194.0\n",
       "std      3.605551  2.735949e+06         0.0\n",
       "min    144.000000  4.567022e+07  46863194.0\n",
       "25%    146.750000  4.799136e+07  46863194.0\n",
       "50%    149.500000  5.028947e+07  46863194.0\n",
       "75%    152.250000  5.188578e+07  46863194.0\n",
       "max    155.000000  5.421021e+07  46863194.0"
      ]
     },
     "execution_count": 47,
     "metadata": {},
     "output_type": "execute_result"
    }
   ],
   "source": [
    "y_hat2 = test2.copy()\n",
    "y_hat2['naive'] = lastvalue2\n",
    "y_hat2.describe()"
   ]
  },
  {
   "cell_type": "code",
   "execution_count": 48,
   "metadata": {},
   "outputs": [
    {
     "data": {
      "image/png": "[encoded data removed]",
      "text/plain": [
       "<Figure size 864x576 with 1 Axes>"
      ]
     },
     "metadata": {
      "needs_background": "light"
     },
     "output_type": "display_data"
    }
   ],
   "source": [
    "plt.figure(figsize=(12,8))\n",
    "plt.plot(train2.index, train2['Total'], label='Train')\n",
    "plt.plot(test2.index,test2['Total'], label='Test')\n",
    "plt.plot(y_hat2.index,y_hat2['naive'], label='Naive Forecast')\n",
    "plt.legend(loc='best')\n",
    "plt.title(\"Naive Forecast\")\n",
    "plt.show()"
   ]
  },
  {
   "cell_type": "code",
   "execution_count": 51,
   "metadata": {},
   "outputs": [
    {
     "name": "stdout",
     "output_type": "stream",
     "text": [
      "RMSE = 0.4173863838765886\n"
     ]
    }
   ],
   "source": [
    "rms2 = sqrt(mean_squared_error(test2.Total, y_hat2.naive))/10000000\n",
    "print('RMSE = '+str(rms2))"
   ]
  },
  {
   "cell_type": "code",
   "execution_count": null,
   "metadata": {},
   "outputs": [],
   "source": []
  }
 ],
 "metadata": {
  "kernelspec": {
   "display_name": "Python 3",
   "language": "python",
   "name": "python3"
  },
  "language_info": {
   "codemirror_mode": {
    "name": "ipython",
    "version": 3
   },
   "file_extension": ".py",
   "mimetype": "text/x-python",
   "name": "python",
   "nbconvert_exporter": "python",
   "pygments_lexer": "ipython3",
   "version": "3.7.4"
  }
 },
 "nbformat": 4,
 "nbformat_minor": 2
}
