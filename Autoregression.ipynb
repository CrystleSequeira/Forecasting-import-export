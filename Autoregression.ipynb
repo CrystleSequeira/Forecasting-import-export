{
 "cells": [
  {
   "cell_type": "markdown",
   "metadata": {},
   "source": [
    "Autoregression is a time series model that uses observations from previous time steps as input to a regression equation to predict the value at the next time step."
   ]
  },
  {
   "cell_type": "code",
   "execution_count": 23,
   "metadata": {},
   "outputs": [],
   "source": [
    "import pandas as pd \n",
    "import numpy as np \n",
    "import matplotlib.pyplot as plt\n",
    "import datetime\n",
    "import warnings\n",
    "warnings.filterwarnings(\"ignore\")"
   ]
  },
  {
   "cell_type": "code",
   "execution_count": 24,
   "metadata": {},
   "outputs": [
    {
     "data": {
      "text/html": [
       "<div>\n",
       "<style scoped>\n",
       "    .dataframe tbody tr th:only-of-type {\n",
       "        vertical-align: middle;\n",
       "    }\n",
       "\n",
       "    .dataframe tbody tr th {\n",
       "        vertical-align: top;\n",
       "    }\n",
       "\n",
       "    .dataframe thead th {\n",
       "        text-align: right;\n",
       "    }\n",
       "</style>\n",
       "<table border=\"1\" class=\"dataframe\">\n",
       "  <thead>\n",
       "    <tr style=\"text-align: right;\">\n",
       "      <th></th>\n",
       "      <th>0</th>\n",
       "      <th>1</th>\n",
       "      <th>2</th>\n",
       "      <th>3</th>\n",
       "      <th>4</th>\n",
       "      <th>5</th>\n",
       "      <th>6</th>\n",
       "      <th>7</th>\n",
       "      <th>8</th>\n",
       "      <th>9</th>\n",
       "      <th>...</th>\n",
       "      <th>146</th>\n",
       "      <th>147</th>\n",
       "      <th>148</th>\n",
       "      <th>149</th>\n",
       "      <th>150</th>\n",
       "      <th>151</th>\n",
       "      <th>152</th>\n",
       "      <th>153</th>\n",
       "      <th>154</th>\n",
       "      <th>155</th>\n",
       "    </tr>\n",
       "  </thead>\n",
       "  <tbody>\n",
       "    <tr>\n",
       "      <td>0</td>\n",
       "      <td>0</td>\n",
       "      <td>1</td>\n",
       "      <td>2</td>\n",
       "      <td>3</td>\n",
       "      <td>4</td>\n",
       "      <td>5</td>\n",
       "      <td>6</td>\n",
       "      <td>7</td>\n",
       "      <td>8</td>\n",
       "      <td>9</td>\n",
       "      <td>...</td>\n",
       "      <td>146</td>\n",
       "      <td>147</td>\n",
       "      <td>148</td>\n",
       "      <td>149</td>\n",
       "      <td>150</td>\n",
       "      <td>151</td>\n",
       "      <td>152</td>\n",
       "      <td>153</td>\n",
       "      <td>154</td>\n",
       "      <td>155</td>\n",
       "    </tr>\n",
       "    <tr>\n",
       "      <td>1</td>\n",
       "      <td>2007-01-01 00:00:00</td>\n",
       "      <td>2007-02-01 00:00:00</td>\n",
       "      <td>2007-03-01 00:00:00</td>\n",
       "      <td>2007-04-01 00:00:00</td>\n",
       "      <td>2007-05-01 00:00:00</td>\n",
       "      <td>2007-06-01 00:00:00</td>\n",
       "      <td>2007-07-01 00:00:00</td>\n",
       "      <td>2007-08-01 00:00:00</td>\n",
       "      <td>2007-09-01 00:00:00</td>\n",
       "      <td>2007-10-01 00:00:00</td>\n",
       "      <td>...</td>\n",
       "      <td>2019-03-01 00:00:00</td>\n",
       "      <td>2019-04-01 00:00:00</td>\n",
       "      <td>2019-05-01 00:00:00</td>\n",
       "      <td>2019-06-01 00:00:00</td>\n",
       "      <td>2019-07-01 00:00:00</td>\n",
       "      <td>2019-08-01 00:00:00</td>\n",
       "      <td>2019-09-01 00:00:00</td>\n",
       "      <td>2019-10-01 00:00:00</td>\n",
       "      <td>2019-11-01 00:00:00</td>\n",
       "      <td>2019-12-01 00:00:00</td>\n",
       "    </tr>\n",
       "    <tr>\n",
       "      <td>2</td>\n",
       "      <td>38223018</td>\n",
       "      <td>35866026</td>\n",
       "      <td>41532719</td>\n",
       "      <td>39443013</td>\n",
       "      <td>39852981</td>\n",
       "      <td>39387232</td>\n",
       "      <td>35048576</td>\n",
       "      <td>37669038</td>\n",
       "      <td>35534156</td>\n",
       "      <td>37291389</td>\n",
       "      <td>...</td>\n",
       "      <td>51935479</td>\n",
       "      <td>49858132</td>\n",
       "      <td>55511984</td>\n",
       "      <td>51068508</td>\n",
       "      <td>48912380</td>\n",
       "      <td>49320631</td>\n",
       "      <td>49234963</td>\n",
       "      <td>50888374</td>\n",
       "      <td>47479186</td>\n",
       "      <td>49775699</td>\n",
       "    </tr>\n",
       "  </tbody>\n",
       "</table>\n",
       "<p>3 rows × 156 columns</p>\n",
       "</div>"
      ],
      "text/plain": [
       "                   0                    1                    2    \\\n",
       "0                    0                    1                    2   \n",
       "1  2007-01-01 00:00:00  2007-02-01 00:00:00  2007-03-01 00:00:00   \n",
       "2             38223018             35866026             41532719   \n",
       "\n",
       "                   3                    4                    5    \\\n",
       "0                    3                    4                    5   \n",
       "1  2007-04-01 00:00:00  2007-05-01 00:00:00  2007-06-01 00:00:00   \n",
       "2             39443013             39852981             39387232   \n",
       "\n",
       "                   6                    7                    8    \\\n",
       "0                    6                    7                    8   \n",
       "1  2007-07-01 00:00:00  2007-08-01 00:00:00  2007-09-01 00:00:00   \n",
       "2             35048576             37669038             35534156   \n",
       "\n",
       "                   9    ...                  146                  147  \\\n",
       "0                    9  ...                  146                  147   \n",
       "1  2007-10-01 00:00:00  ...  2019-03-01 00:00:00  2019-04-01 00:00:00   \n",
       "2             37291389  ...             51935479             49858132   \n",
       "\n",
       "                   148                  149                  150  \\\n",
       "0                  148                  149                  150   \n",
       "1  2019-05-01 00:00:00  2019-06-01 00:00:00  2019-07-01 00:00:00   \n",
       "2             55511984             51068508             48912380   \n",
       "\n",
       "                   151                  152                  153  \\\n",
       "0                  151                  152                  153   \n",
       "1  2019-08-01 00:00:00  2019-09-01 00:00:00  2019-10-01 00:00:00   \n",
       "2             49320631             49234963             50888374   \n",
       "\n",
       "                   154                  155  \n",
       "0                  154                  155  \n",
       "1  2019-11-01 00:00:00  2019-12-01 00:00:00  \n",
       "2             47479186             49775699  \n",
       "\n",
       "[3 rows x 156 columns]"
      ]
     },
     "execution_count": 24,
     "metadata": {},
     "output_type": "execute_result"
    }
   ],
   "source": [
    "df = pd.read_excel ('monthly export amount2.xlsx')\n",
    "df"
   ]
  },
  {
   "cell_type": "markdown",
   "metadata": {},
   "source": [
    "Because the data frame had 3 rows and 156 columns, it should be transposed to 3 columns which one of them is date and the other amounts, also one column as an ID."
   ]
  },
  {
   "cell_type": "code",
   "execution_count": 25,
   "metadata": {},
   "outputs": [],
   "source": [
    "df =df.transpose()"
   ]
  },
  {
   "cell_type": "code",
   "execution_count": 26,
   "metadata": {},
   "outputs": [
    {
     "data": {
      "text/html": [
       "<div>\n",
       "<style scoped>\n",
       "    .dataframe tbody tr th:only-of-type {\n",
       "        vertical-align: middle;\n",
       "    }\n",
       "\n",
       "    .dataframe tbody tr th {\n",
       "        vertical-align: top;\n",
       "    }\n",
       "\n",
       "    .dataframe thead th {\n",
       "        text-align: right;\n",
       "    }\n",
       "</style>\n",
       "<table border=\"1\" class=\"dataframe\">\n",
       "  <thead>\n",
       "    <tr style=\"text-align: right;\">\n",
       "      <th></th>\n",
       "      <th>ID</th>\n",
       "      <th>Datetime</th>\n",
       "      <th>Total</th>\n",
       "    </tr>\n",
       "  </thead>\n",
       "  <tbody>\n",
       "    <tr>\n",
       "      <td>0</td>\n",
       "      <td>0</td>\n",
       "      <td>2007-01-01</td>\n",
       "      <td>38223018</td>\n",
       "    </tr>\n",
       "    <tr>\n",
       "      <td>1</td>\n",
       "      <td>1</td>\n",
       "      <td>2007-02-01</td>\n",
       "      <td>35866026</td>\n",
       "    </tr>\n",
       "    <tr>\n",
       "      <td>2</td>\n",
       "      <td>2</td>\n",
       "      <td>2007-03-01</td>\n",
       "      <td>41532719</td>\n",
       "    </tr>\n",
       "    <tr>\n",
       "      <td>3</td>\n",
       "      <td>3</td>\n",
       "      <td>2007-04-01</td>\n",
       "      <td>39443013</td>\n",
       "    </tr>\n",
       "    <tr>\n",
       "      <td>4</td>\n",
       "      <td>4</td>\n",
       "      <td>2007-05-01</td>\n",
       "      <td>39852981</td>\n",
       "    </tr>\n",
       "    <tr>\n",
       "      <td>...</td>\n",
       "      <td>...</td>\n",
       "      <td>...</td>\n",
       "      <td>...</td>\n",
       "    </tr>\n",
       "    <tr>\n",
       "      <td>151</td>\n",
       "      <td>151</td>\n",
       "      <td>2019-08-01</td>\n",
       "      <td>49320631</td>\n",
       "    </tr>\n",
       "    <tr>\n",
       "      <td>152</td>\n",
       "      <td>152</td>\n",
       "      <td>2019-09-01</td>\n",
       "      <td>49234963</td>\n",
       "    </tr>\n",
       "    <tr>\n",
       "      <td>153</td>\n",
       "      <td>153</td>\n",
       "      <td>2019-10-01</td>\n",
       "      <td>50888374</td>\n",
       "    </tr>\n",
       "    <tr>\n",
       "      <td>154</td>\n",
       "      <td>154</td>\n",
       "      <td>2019-11-01</td>\n",
       "      <td>47479186</td>\n",
       "    </tr>\n",
       "    <tr>\n",
       "      <td>155</td>\n",
       "      <td>155</td>\n",
       "      <td>2019-12-01</td>\n",
       "      <td>49775699</td>\n",
       "    </tr>\n",
       "  </tbody>\n",
       "</table>\n",
       "<p>156 rows × 3 columns</p>\n",
       "</div>"
      ],
      "text/plain": [
       "      ID   Datetime     Total\n",
       "0      0 2007-01-01  38223018\n",
       "1      1 2007-02-01  35866026\n",
       "2      2 2007-03-01  41532719\n",
       "3      3 2007-04-01  39443013\n",
       "4      4 2007-05-01  39852981\n",
       "..   ...        ...       ...\n",
       "151  151 2019-08-01  49320631\n",
       "152  152 2019-09-01  49234963\n",
       "153  153 2019-10-01  50888374\n",
       "154  154 2019-11-01  47479186\n",
       "155  155 2019-12-01  49775699\n",
       "\n",
       "[156 rows x 3 columns]"
      ]
     },
     "execution_count": 26,
     "metadata": {},
     "output_type": "execute_result"
    }
   ],
   "source": [
    "df.columns = ['ID','Datetime','Total']\n",
    "df"
   ]
  },
  {
   "cell_type": "code",
   "execution_count": 27,
   "metadata": {},
   "outputs": [
    {
     "data": {
      "text/plain": [
       "ID                  object\n",
       "Datetime    datetime64[ns]\n",
       "Total               object\n",
       "dtype: object"
      ]
     },
     "execution_count": 27,
     "metadata": {},
     "output_type": "execute_result"
    }
   ],
   "source": [
    "df.dtypes"
   ]
  },
  {
   "cell_type": "markdown",
   "metadata": {},
   "source": [
    "First of all, the type of each column should be determined"
   ]
  },
  {
   "cell_type": "code",
   "execution_count": 28,
   "metadata": {},
   "outputs": [],
   "source": [
    "df.Datetime = pd.to_datetime(df.Datetime,format='%Y-%m-%d %H:%M') \n",
    "df.index = df.Datetime"
   ]
  },
  {
   "cell_type": "code",
   "execution_count": 29,
   "metadata": {},
   "outputs": [],
   "source": [
    "df['ID'] = df['ID'].astype(np.float64)\n",
    "df['Total'] = df['Total'].astype(np.float64)"
   ]
  },
  {
   "cell_type": "markdown",
   "metadata": {},
   "source": [
    "Then split the test and train parts, which 2019 is the test and the previous 12 years are train."
   ]
  },
  {
   "cell_type": "code",
   "execution_count": 30,
   "metadata": {},
   "outputs": [],
   "source": [
    "import math\n",
    "total_size=len(df)\n",
    "split = 144 / 156\n",
    "train_size=math.floor(split*total_size)\n",
    "train=df.head(train_size)\n",
    "test=df.tail(len(df) -train_size)"
   ]
  },
  {
   "cell_type": "markdown",
   "metadata": {},
   "source": [
    "Importing the Autoregression model and fit it to the train part.\n",
    "An autoregressive model is a linear function when a value from a time series is regressed on previous values from that same time series. for example, yt on yt−1:\n",
    "\n",
    "yt=β0+β1yt−1+ϵt.\n"
   ]
  },
  {
   "cell_type": "code",
   "execution_count": 31,
   "metadata": {},
   "outputs": [],
   "source": [
    "from statsmodels.tsa.ar_model import AR\n",
    "\n",
    "model = AR(train.Total)\n",
    "fit1 = model.fit()\n",
    "y_hat = test.copy()\n",
    "y_hat['AR'] = fit1.predict(start=len(train), end=len(train)+len(test)-1)"
   ]
  },
  {
   "cell_type": "code",
   "execution_count": 32,
   "metadata": {},
   "outputs": [
    {
     "data": {
      "image/png": "[encoded data removed]",
      "text/plain": [
       "<Figure size 1152x648 with 1 Axes>"
      ]
     },
     "metadata": {
      "needs_background": "light"
     },
     "output_type": "display_data"
    }
   ],
   "source": [
    "#Plotting data\n",
    "plt.figure(figsize=(16,9))\n",
    "plt.plot(train.index, train['Total'], label='Train')\n",
    "plt.plot(test.index,test['Total'], label='Test')\n",
    "plt.plot(y_hat.index,y_hat['AR'], label='AR')\n",
    "plt.legend(loc='upper left')\n",
    "plt.title(\"Autoregression (AR) Forecast\")\n",
    "plt.show()"
   ]
  },
  {
   "attachments": {
    "image.png": {
     "image/png": "[encoded data removed]"
    }
   },
   "cell_type": "markdown",
   "metadata": {},
   "source": [
    "Root Mean Square Error (RMSE) is the standard deviation of the residuals (prediction errors). Residuals are a measure of how far from the regression line data points are; RMSE is a measure of how spread out these residuals are. In other words, it tells you how concentrated the data is around the line of best fit. Root mean square error is commonly used in climatology, forecasting, and regression analysis to verify experimental results.\n",
    "The formula is:\n",
    "![image.png](attachment:image.png)"
   ]
  },
  {
   "cell_type": "markdown",
   "metadata": {},
   "source": [
    "Because in this dataframe, all the data points are amounts in billion, so the RMSE is shown a big amount. So, it's better to divide it to 10000000 to change in range 0~1."
   ]
  },
  {
   "cell_type": "code",
   "execution_count": 33,
   "metadata": {},
   "outputs": [
    {
     "name": "stdout",
     "output_type": "stream",
     "text": [
      "RMSE = 0.4809910472091684\n"
     ]
    }
   ],
   "source": [
    "from sklearn.metrics import mean_squared_error\n",
    "from math import sqrt\n",
    "rms = sqrt(mean_squared_error(test.Total, y_hat.AR))/10000000\n",
    "print('RMSE = '+str(rms))"
   ]
  },
  {
   "cell_type": "markdown",
   "metadata": {},
   "source": [
    "Now, trying the same model to the import data."
   ]
  },
  {
   "cell_type": "code",
   "execution_count": 34,
   "metadata": {},
   "outputs": [
    {
     "data": {
      "text/html": [
       "<div>\n",
       "<style scoped>\n",
       "    .dataframe tbody tr th:only-of-type {\n",
       "        vertical-align: middle;\n",
       "    }\n",
       "\n",
       "    .dataframe tbody tr th {\n",
       "        vertical-align: top;\n",
       "    }\n",
       "\n",
       "    .dataframe thead th {\n",
       "        text-align: right;\n",
       "    }\n",
       "</style>\n",
       "<table border=\"1\" class=\"dataframe\">\n",
       "  <thead>\n",
       "    <tr style=\"text-align: right;\">\n",
       "      <th></th>\n",
       "      <th>0</th>\n",
       "      <th>1</th>\n",
       "      <th>2</th>\n",
       "      <th>3</th>\n",
       "      <th>4</th>\n",
       "      <th>5</th>\n",
       "      <th>6</th>\n",
       "      <th>7</th>\n",
       "      <th>8</th>\n",
       "      <th>9</th>\n",
       "      <th>...</th>\n",
       "      <th>146</th>\n",
       "      <th>147</th>\n",
       "      <th>148</th>\n",
       "      <th>149</th>\n",
       "      <th>150</th>\n",
       "      <th>151</th>\n",
       "      <th>152</th>\n",
       "      <th>153</th>\n",
       "      <th>154</th>\n",
       "      <th>155</th>\n",
       "    </tr>\n",
       "  </thead>\n",
       "  <tbody>\n",
       "    <tr>\n",
       "      <td>0</td>\n",
       "      <td>0</td>\n",
       "      <td>1</td>\n",
       "      <td>2</td>\n",
       "      <td>3</td>\n",
       "      <td>4</td>\n",
       "      <td>5</td>\n",
       "      <td>6</td>\n",
       "      <td>7</td>\n",
       "      <td>8</td>\n",
       "      <td>9</td>\n",
       "      <td>...</td>\n",
       "      <td>146</td>\n",
       "      <td>147</td>\n",
       "      <td>148</td>\n",
       "      <td>149</td>\n",
       "      <td>150</td>\n",
       "      <td>151</td>\n",
       "      <td>152</td>\n",
       "      <td>153</td>\n",
       "      <td>154</td>\n",
       "      <td>155</td>\n",
       "    </tr>\n",
       "    <tr>\n",
       "      <td>1</td>\n",
       "      <td>2007-01-01 00:00:00</td>\n",
       "      <td>2007-02-01 00:00:00</td>\n",
       "      <td>2007-03-01 00:00:00</td>\n",
       "      <td>2007-04-01 00:00:00</td>\n",
       "      <td>2007-05-01 00:00:00</td>\n",
       "      <td>2007-06-01 00:00:00</td>\n",
       "      <td>2007-07-01 00:00:00</td>\n",
       "      <td>2007-08-01 00:00:00</td>\n",
       "      <td>2007-09-01 00:00:00</td>\n",
       "      <td>2007-10-01 00:00:00</td>\n",
       "      <td>...</td>\n",
       "      <td>2019-03-01 00:00:00</td>\n",
       "      <td>2019-04-01 00:00:00</td>\n",
       "      <td>2019-05-01 00:00:00</td>\n",
       "      <td>2019-06-01 00:00:00</td>\n",
       "      <td>2019-07-01 00:00:00</td>\n",
       "      <td>2019-08-01 00:00:00</td>\n",
       "      <td>2019-09-01 00:00:00</td>\n",
       "      <td>2019-10-01 00:00:00</td>\n",
       "      <td>2019-11-01 00:00:00</td>\n",
       "      <td>2019-12-01 00:00:00</td>\n",
       "    </tr>\n",
       "    <tr>\n",
       "      <td>2</td>\n",
       "      <td>32224562</td>\n",
       "      <td>32242267</td>\n",
       "      <td>37580303</td>\n",
       "      <td>34869515</td>\n",
       "      <td>35548764</td>\n",
       "      <td>34407253</td>\n",
       "      <td>32246446</td>\n",
       "      <td>34833597</td>\n",
       "      <td>33163668</td>\n",
       "      <td>35329980</td>\n",
       "      <td>...</td>\n",
       "      <td>53547292</td>\n",
       "      <td>52060147</td>\n",
       "      <td>54210207</td>\n",
       "      <td>50668652</td>\n",
       "      <td>49910283</td>\n",
       "      <td>51815887</td>\n",
       "      <td>49366806</td>\n",
       "      <td>51827652</td>\n",
       "      <td>47939304</td>\n",
       "      <td>45670220</td>\n",
       "    </tr>\n",
       "  </tbody>\n",
       "</table>\n",
       "<p>3 rows × 156 columns</p>\n",
       "</div>"
      ],
      "text/plain": [
       "                   0                    1                    2    \\\n",
       "0                    0                    1                    2   \n",
       "1  2007-01-01 00:00:00  2007-02-01 00:00:00  2007-03-01 00:00:00   \n",
       "2             32224562             32242267             37580303   \n",
       "\n",
       "                   3                    4                    5    \\\n",
       "0                    3                    4                    5   \n",
       "1  2007-04-01 00:00:00  2007-05-01 00:00:00  2007-06-01 00:00:00   \n",
       "2             34869515             35548764             34407253   \n",
       "\n",
       "                   6                    7                    8    \\\n",
       "0                    6                    7                    8   \n",
       "1  2007-07-01 00:00:00  2007-08-01 00:00:00  2007-09-01 00:00:00   \n",
       "2             32246446             34833597             33163668   \n",
       "\n",
       "                   9    ...                  146                  147  \\\n",
       "0                    9  ...                  146                  147   \n",
       "1  2007-10-01 00:00:00  ...  2019-03-01 00:00:00  2019-04-01 00:00:00   \n",
       "2             35329980  ...             53547292             52060147   \n",
       "\n",
       "                   148                  149                  150  \\\n",
       "0                  148                  149                  150   \n",
       "1  2019-05-01 00:00:00  2019-06-01 00:00:00  2019-07-01 00:00:00   \n",
       "2             54210207             50668652             49910283   \n",
       "\n",
       "                   151                  152                  153  \\\n",
       "0                  151                  152                  153   \n",
       "1  2019-08-01 00:00:00  2019-09-01 00:00:00  2019-10-01 00:00:00   \n",
       "2             51815887             49366806             51827652   \n",
       "\n",
       "                   154                  155  \n",
       "0                  154                  155  \n",
       "1  2019-11-01 00:00:00  2019-12-01 00:00:00  \n",
       "2             47939304             45670220  \n",
       "\n",
       "[3 rows x 156 columns]"
      ]
     },
     "execution_count": 34,
     "metadata": {},
     "output_type": "execute_result"
    }
   ],
   "source": [
    "df2 = pd.read_excel ('monthly import amount2.xlsx')\n",
    "df2"
   ]
  },
  {
   "cell_type": "code",
   "execution_count": 35,
   "metadata": {},
   "outputs": [],
   "source": [
    "df2 =df2.transpose()"
   ]
  },
  {
   "cell_type": "code",
   "execution_count": 36,
   "metadata": {},
   "outputs": [
    {
     "data": {
      "text/html": [
       "<div>\n",
       "<style scoped>\n",
       "    .dataframe tbody tr th:only-of-type {\n",
       "        vertical-align: middle;\n",
       "    }\n",
       "\n",
       "    .dataframe tbody tr th {\n",
       "        vertical-align: top;\n",
       "    }\n",
       "\n",
       "    .dataframe thead th {\n",
       "        text-align: right;\n",
       "    }\n",
       "</style>\n",
       "<table border=\"1\" class=\"dataframe\">\n",
       "  <thead>\n",
       "    <tr style=\"text-align: right;\">\n",
       "      <th></th>\n",
       "      <th>ID</th>\n",
       "      <th>Datetime</th>\n",
       "      <th>Total</th>\n",
       "    </tr>\n",
       "  </thead>\n",
       "  <tbody>\n",
       "    <tr>\n",
       "      <td>0</td>\n",
       "      <td>0</td>\n",
       "      <td>2007-01-01</td>\n",
       "      <td>32224562</td>\n",
       "    </tr>\n",
       "    <tr>\n",
       "      <td>1</td>\n",
       "      <td>1</td>\n",
       "      <td>2007-02-01</td>\n",
       "      <td>32242267</td>\n",
       "    </tr>\n",
       "    <tr>\n",
       "      <td>2</td>\n",
       "      <td>2</td>\n",
       "      <td>2007-03-01</td>\n",
       "      <td>37580303</td>\n",
       "    </tr>\n",
       "    <tr>\n",
       "      <td>3</td>\n",
       "      <td>3</td>\n",
       "      <td>2007-04-01</td>\n",
       "      <td>34869515</td>\n",
       "    </tr>\n",
       "    <tr>\n",
       "      <td>4</td>\n",
       "      <td>4</td>\n",
       "      <td>2007-05-01</td>\n",
       "      <td>35548764</td>\n",
       "    </tr>\n",
       "    <tr>\n",
       "      <td>...</td>\n",
       "      <td>...</td>\n",
       "      <td>...</td>\n",
       "      <td>...</td>\n",
       "    </tr>\n",
       "    <tr>\n",
       "      <td>151</td>\n",
       "      <td>151</td>\n",
       "      <td>2019-08-01</td>\n",
       "      <td>51815887</td>\n",
       "    </tr>\n",
       "    <tr>\n",
       "      <td>152</td>\n",
       "      <td>152</td>\n",
       "      <td>2019-09-01</td>\n",
       "      <td>49366806</td>\n",
       "    </tr>\n",
       "    <tr>\n",
       "      <td>153</td>\n",
       "      <td>153</td>\n",
       "      <td>2019-10-01</td>\n",
       "      <td>51827652</td>\n",
       "    </tr>\n",
       "    <tr>\n",
       "      <td>154</td>\n",
       "      <td>154</td>\n",
       "      <td>2019-11-01</td>\n",
       "      <td>47939304</td>\n",
       "    </tr>\n",
       "    <tr>\n",
       "      <td>155</td>\n",
       "      <td>155</td>\n",
       "      <td>2019-12-01</td>\n",
       "      <td>45670220</td>\n",
       "    </tr>\n",
       "  </tbody>\n",
       "</table>\n",
       "<p>156 rows × 3 columns</p>\n",
       "</div>"
      ],
      "text/plain": [
       "      ID   Datetime     Total\n",
       "0      0 2007-01-01  32224562\n",
       "1      1 2007-02-01  32242267\n",
       "2      2 2007-03-01  37580303\n",
       "3      3 2007-04-01  34869515\n",
       "4      4 2007-05-01  35548764\n",
       "..   ...        ...       ...\n",
       "151  151 2019-08-01  51815887\n",
       "152  152 2019-09-01  49366806\n",
       "153  153 2019-10-01  51827652\n",
       "154  154 2019-11-01  47939304\n",
       "155  155 2019-12-01  45670220\n",
       "\n",
       "[156 rows x 3 columns]"
      ]
     },
     "execution_count": 36,
     "metadata": {},
     "output_type": "execute_result"
    }
   ],
   "source": [
    "df2.columns = ['ID','Datetime','Total']\n",
    "df2"
   ]
  },
  {
   "cell_type": "code",
   "execution_count": 37,
   "metadata": {},
   "outputs": [],
   "source": [
    "df2.Datetime = pd.to_datetime(df2.Datetime,format='%Y-%m-%d %H:%M') \n",
    "df2.index = df2.Datetime"
   ]
  },
  {
   "cell_type": "code",
   "execution_count": 38,
   "metadata": {},
   "outputs": [],
   "source": [
    "df2['ID'] = df2['ID'].astype(np.float64)\n",
    "df2['Total'] = df2['Total'].astype(np.float64)"
   ]
  },
  {
   "cell_type": "code",
   "execution_count": 41,
   "metadata": {},
   "outputs": [],
   "source": [
    "total_size_2=len(df2)\n",
    "split = 144 / 156\n",
    "train_size_2 = math.floor(split*total_size_2)\n",
    "train_2 = df2.head(train_size_2)\n",
    "test_2 = df2.tail(len(df2) - train_size_2)"
   ]
  },
  {
   "cell_type": "code",
   "execution_count": 43,
   "metadata": {},
   "outputs": [],
   "source": [
    "model_2 = AR(train_2.Total)\n",
    "fit_2 = model_2.fit()\n",
    "y_hat2 = test_2.copy()\n",
    "y_hat2['AR'] = fit_2.predict(start=len(train_2), end=len(train_2)+len(test_2)-1)"
   ]
  },
  {
   "cell_type": "code",
   "execution_count": 44,
   "metadata": {},
   "outputs": [
    {
     "data": {
      "image/png": "[encoded data removed]",
      "text/plain": [
       "<Figure size 1152x648 with 1 Axes>"
      ]
     },
     "metadata": {
      "needs_background": "light"
     },
     "output_type": "display_data"
    }
   ],
   "source": [
    "plt.figure(figsize=(16,9))\n",
    "plt.plot(train_2.index, train_2['Total'], label='Train')\n",
    "plt.plot(test_2.index,test_2['Total'], label='Test')\n",
    "plt.plot(y_hat2.index,y_hat2['AR'], label='AR')\n",
    "plt.legend(loc='upper left')\n",
    "plt.title(\"Autoregression (AR) Forecast\")\n",
    "plt.show()"
   ]
  },
  {
   "cell_type": "code",
   "execution_count": 46,
   "metadata": {},
   "outputs": [
    {
     "name": "stdout",
     "output_type": "stream",
     "text": [
      "RMSE = 0.20044944622926683\n"
     ]
    }
   ],
   "source": [
    "rms = sqrt(mean_squared_error(test_2.Total, y_hat2.AR))/10000000\n",
    "print('RMSE = '+str(rms))"
   ]
  },
  {
   "cell_type": "code",
   "execution_count": null,
   "metadata": {},
   "outputs": [],
   "source": []
  }
 ],
 "metadata": {
  "kernelspec": {
   "display_name": "Python 3",
   "language": "python",
   "name": "python3"
  },
  "language_info": {
   "codemirror_mode": {
    "name": "ipython",
    "version": 3
   },
   "file_extension": ".py",
   "mimetype": "text/x-python",
   "name": "python",
   "nbconvert_exporter": "python",
   "pygments_lexer": "ipython3",
   "version": "3.7.4"
  }
 },
 "nbformat": 4,
 "nbformat_minor": 2
}
